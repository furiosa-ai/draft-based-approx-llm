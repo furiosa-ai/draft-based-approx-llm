{
 "cells": [
  {
   "cell_type": "markdown",
   "id": "c16d4e9d",
   "metadata": {},
   "source": [
    "# Efficient Large Language Model Inference with SpecPC\n",
    "This notebook demonstrates how to patch a pre-trained LLM with SpecPC. We'll also evaluate with a synthetic retrieval-style prompt."
   ]
  },
  {
   "cell_type": "code",
   "execution_count": null,
   "id": "2f853e70",
   "metadata": {},
   "outputs": [],
   "source": [
    "import os\n",
    "import random\n",
    "import torch\n",
    "from transformers import AutoModelForCausalLM, AutoTokenizer\n",
    "\n",
    "# (Optional) Ensure only the first GPU is used (if available)\n",
    "os.environ[\"CUDA_VISIBLE_DEVICES\"] = \"0\"\n",
    "\n",
    "# Ensure deterministic shuffling\n",
    "random.seed(42)\n",
    "\n",
    "from draft_approx_llm import SpecPCConfig, patch_model"
   ]
  },
  {
   "cell_type": "markdown",
   "id": "833068fa",
   "metadata": {},
   "source": [
    "## Helper Function for Prompt Generation"
   ]
  },
  {
   "cell_type": "code",
   "execution_count": null,
   "id": "5bb24611",
   "metadata": {},
   "outputs": [],
   "source": [
    "def create_niah_example(n_repeat: int = 100, key: str = \"123456789\") -> str:\n",
    "    \"\"\"\n",
    "    Generates a synthetic document with many distractors and a hidden key to test retrieval abilities.\n",
    "    \"\"\"\n",
    "    example_sentences = [\n",
    "        \"The cat sat on the mat.\",\n",
    "        \"The quick brown fox jumps over the lazy dog.\",\n",
    "        \"A journey of a thousand miles begins with a single step.\",\n",
    "        \"To be or not to be, that is the question.\",\n",
    "        \"All that glitters is not gold.\"\n",
    "    ]\n",
    "\n",
    "    context = []\n",
    "    for sentence in example_sentences:\n",
    "        context.extend([sentence] * n_repeat)\n",
    "    context.append(f\"The key: {key}\")\n",
    "    random.Random(42).shuffle(context)  # deterministic shuffle\n",
    "    \n",
    "    prompt = \"\\n\".join(context)\n",
    "    prompt += \"\\n\\nWhat is the key?\"\n",
    "    return prompt"
   ]
  },
  {
   "cell_type": "markdown",
   "id": "9f4d7ee9",
   "metadata": {},
   "source": [
    "## Model and Tokenizer Loading"
   ]
  },
  {
   "cell_type": "code",
   "execution_count": null,
   "id": "fb91300a",
   "metadata": {},
   "outputs": [],
   "source": [
    "# Model configurations: adjust as needed\n",
    "MAIN_MODEL_NAME = \"Qwen/Qwen2.5-14B-Instruct\"\n",
    "DRAFT_MODEL_NAME = \"Qwen/Qwen2.5-0.5B-Instruct\"\n",
    "\n",
    "model_kwargs = {\n",
    "    \"torch_dtype\": torch.bfloat16,\n",
    "    \"attn_implementation\": \"flash_attention_2\",\n",
    "    \"device_map\": \"auto\"\n",
    "}\n",
    "\n",
    "# Load models and tokenizer\n",
    "tokenizer = AutoTokenizer.from_pretrained(MAIN_MODEL_NAME)\n",
    "model = AutoModelForCausalLM.from_pretrained(MAIN_MODEL_NAME, **model_kwargs)\n",
    "draft_model = AutoModelForCausalLM.from_pretrained(DRAFT_MODEL_NAME, **model_kwargs)"
   ]
  },
  {
   "cell_type": "markdown",
   "id": "bb028409",
   "metadata": {},
   "source": [
    "## SpecPC Configuration and Patching"
   ]
  },
  {
   "cell_type": "code",
   "execution_count": null,
   "id": "7900eb3d",
   "metadata": {},
   "outputs": [],
   "source": [
    "# Adjust these hyperparameters to tune performance/quality tradeoff\n",
    "sparse_config = SpecPCConfig(\n",
    "    max_capacity_prompt=1024,\n",
    "    window_size=64,\n",
    "    pool_type=\"max\",\n",
    "    kernel_size=64,\n",
    "    reduction_type=\"max\",\n",
    "    lookahead_tokens=1,\n",
    "    neighbor_tokens=64,\n",
    "    starting_layer_index=8,\n",
    "    weighted_query=True\n",
    ")\n",
    "\n",
    "# Patch main model for SpecPC\n",
    "patched_model = patch_model(model, draft_model, sparse_config)"
   ]
  },
  {
   "cell_type": "markdown",
   "id": "54af0047",
   "metadata": {},
   "source": [
    "## Prepare Prompt and Tokenized Input"
   ]
  },
  {
   "cell_type": "code",
   "execution_count": null,
   "id": "0dce8b04",
   "metadata": {},
   "outputs": [],
   "source": [
    "sample_input = create_niah_example()\n",
    "inputs = tokenizer(sample_input, return_tensors=\"pt\").to(patched_model.device)\n",
    "print(f\"Input token count: {inputs.input_ids.shape[1]}\")"
   ]
  },
  {
   "cell_type": "markdown",
   "id": "34ee9d37",
   "metadata": {},
   "source": [
    "## Generate Output"
   ]
  },
  {
   "cell_type": "code",
   "execution_count": null,
   "id": "8b5bc08a",
   "metadata": {},
   "outputs": [],
   "source": [
    "with torch.inference_mode():\n",
    "    gen_outputs = patched_model.generate(\n",
    "        **inputs,\n",
    "        max_new_tokens=32,\n",
    "        do_sample=False,\n",
    "        temperature=None,\n",
    "        top_p=None,\n",
    "        top_k=None,\n",
    "        return_dict_in_generate=True\n",
    "    )"
   ]
  },
  {
   "cell_type": "markdown",
   "id": "c5c39997",
   "metadata": {},
   "source": [
    "## Decode and Display Model Output"
   ]
  },
  {
   "cell_type": "code",
   "execution_count": null,
   "id": "04004a48",
   "metadata": {},
   "outputs": [],
   "source": [
    "decoded_output = tokenizer.decode(gen_outputs.output_ids[0], skip_special_tokens=True).strip()\n",
    "print(decoded_output)"
   ]
  }
 ],
 "metadata": {
  "kernelspec": {
   "display_name": "draftapprox",
   "language": "python",
   "name": "python3"
  },
  "language_info": {
   "codemirror_mode": {
    "name": "ipython",
    "version": 3
   },
   "file_extension": ".py",
   "mimetype": "text/x-python",
   "name": "python",
   "nbconvert_exporter": "python",
   "pygments_lexer": "ipython3",
   "version": "3.10.18"
  }
 },
 "nbformat": 4,
 "nbformat_minor": 5
}
